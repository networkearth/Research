{
 "cells": [
  {
   "cell_type": "code",
   "execution_count": 1,
   "id": "f2325d58",
   "metadata": {},
   "outputs": [],
   "source": [
    "import os \n",
    "\n",
    "os.environ['AWS_PROFILE'] = 'admin'\n",
    "os.environ['HAVEN_DATABASE'] = 'haven'\n",
    "\n",
    "import plotly.express as px\n",
    "import pandas as pd\n",
    "import numpy as np\n",
    "import h3\n",
    "\n",
    "from mirrorverse.utils import read_data_w_cache"
   ]
  },
  {
   "cell_type": "code",
   "execution_count": 3,
   "id": "b3052417",
   "metadata": {},
   "outputs": [],
   "source": [
    "sql = '''\n",
    "select \n",
    "    *\n",
    "from \n",
    "    chinook_depth_contrasts_3_7\n",
    "where \n",
    "    not _train\n",
    "'''\n",
    "data = read_data_w_cache(sql)\n",
    "data.to_parquet('contrasts_test.parquet')"
   ]
  },
  {
   "cell_type": "code",
   "execution_count": 2,
   "id": "d8441ffc",
   "metadata": {},
   "outputs": [],
   "source": [
    "sql = '''\n",
    "select \n",
    "    *\n",
    "from \n",
    "    chinook_depth_contrasts_3_7\n",
    "where \n",
    "    _train\n",
    "'''\n",
    "data = read_data_w_cache(sql)\n",
    "data.to_parquet('contrasts_train.parquet')"
   ]
  },
  {
   "cell_type": "code",
   "execution_count": 2,
   "id": "b5109996",
   "metadata": {},
   "outputs": [],
   "source": [
    "sql = '''\n",
    "select \n",
    "    *\n",
    "from \n",
    "    chinook_depth_features_3_7\n",
    "where \n",
    "    not _train\n",
    "'''\n",
    "data = read_data_w_cache(sql)\n",
    "data.to_parquet('features_test.parquet')"
   ]
  },
  {
   "cell_type": "code",
   "execution_count": 3,
   "id": "9b19088f",
   "metadata": {},
   "outputs": [],
   "source": [
    "sql = '''\n",
    "select \n",
    "    *\n",
    "from \n",
    "    chinook_depth_features_3_7\n",
    "where \n",
    "    _train\n",
    "'''\n",
    "data = read_data_w_cache(sql)\n",
    "data.to_parquet('features_train.parquet')"
   ]
  },
  {
   "cell_type": "code",
   "execution_count": 4,
   "id": "6bf72006",
   "metadata": {},
   "outputs": [],
   "source": [
    "MODELS = {\n",
    "    'A': ('3_1_1', 'ab17d4ce30981b9d7630da4d7adbf7fd7cb88a9bfee2b37ed60254e097e8ffdc'),\n",
    "    'B': ('3_1_3', 'e875c3a83c56925e0537b30c6f64d3219ffcd41c2298490d69eec4c25899119c'),\n",
    "    'C': ('3_1_4', '00cf23b296999368ea18b82e33b8687c51e8c35e876afd325e26317cb69ea45b'),\n",
    "    'D': ('3_7_2', 'fb3f06dc5fd0971a4e7cfdd2e5da5cca391a633f92528e79aa526df347ca0920'),\n",
    "}\n",
    "\n",
    "for name, (model_id, run_id) in MODELS.items():\n",
    "    sql = f'''\n",
    "    select \n",
    "        _decision,\n",
    "        _choice,\n",
    "        probability\n",
    "    from\n",
    "        chinook_depth_inference_{model_id}\n",
    "    where \n",
    "        run_id = '{run_id}'\n",
    "    '''\n",
    "    data = read_data_w_cache(sql)\n",
    "    data.to_parquet(f'model_{name}_features_inference.parquet')"
   ]
  },
  {
   "cell_type": "code",
   "execution_count": null,
   "id": "b198f1ef",
   "metadata": {},
   "outputs": [],
   "source": []
  }
 ],
 "metadata": {
  "kernelspec": {
   "display_name": "base",
   "language": "python",
   "name": "python3"
  },
  "language_info": {
   "codemirror_mode": {
    "name": "ipython",
    "version": 3
   },
   "file_extension": ".py",
   "mimetype": "text/x-python",
   "name": "python",
   "nbconvert_exporter": "python",
   "pygments_lexer": "ipython3",
   "version": "3.12.4"
  }
 },
 "nbformat": 4,
 "nbformat_minor": 5
}
